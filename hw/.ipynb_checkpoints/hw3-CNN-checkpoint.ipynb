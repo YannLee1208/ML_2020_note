{
 "cells": [
  {
   "cell_type": "code",
   "execution_count": null,
   "id": "8c2f2a74",
   "metadata": {},
   "outputs": [],
   "source": [
    "import torch\n",
    "import torch.nn as nn\n",
    "import torchvision.transforms as transforms\n",
    "from torch.utils.data import DataLoader, Dataset"
   ]
  },
  {
   "cell_type": "markdown",
   "id": "9ec7a67b",
   "metadata": {},
   "source": [
    "## Data"
   ]
  },
  {
   "cell_type": "markdown",
   "id": "bdbab753",
   "metadata": {},
   "source": [
    "### ReadFile"
   ]
  },
  {
   "cell_type": "code",
   "execution_count": 16,
   "id": "9b5fec3d",
   "metadata": {},
   "outputs": [],
   "source": [
    "import os\n",
    "import numpy as np\n",
    "import cv2\n",
    "\n",
    "def readfile(path, label):\n",
    "    # label 是一個 boolean variable，代表需不需要回傳 y 值\n",
    "    image_dir = sorted(os.listdir(path))\n",
    "    x = np.zeros((len(image_dir), 128, 128, 3), dtype=np.uint8)\n",
    "    y = np.zeros((len(image_dir)), dtype=np.uint8)\n",
    "    \n",
    "    for i, file in enumerate(image_dir):\n",
    "        img = cv2.imread(os.path.join(path, file))\n",
    "        x[i, :, :] = cv2.resize(img,(128, 128))\n",
    "        if label:\n",
    "            y[i] = int(file.split(\"_\")[0])\n",
    "    if label:\n",
    "        return x, y\n",
    "    else:\n",
    "        return x"
   ]
  },
  {
   "cell_type": "code",
   "execution_count": 19,
   "id": "7d5091b3",
   "metadata": {},
   "outputs": [
    {
     "name": "stdout",
     "output_type": "stream",
     "text": [
      "read file\n",
      "Size of train : 9866 \n",
      "Size of validation : 3430 \n",
      "Size of test : 3347\n"
     ]
    }
   ],
   "source": [
    "work_dir = \"../data/food-11/\"\n",
    "print(\"read file\")\n",
    "\n",
    "train_x, train_y = readfile(os.path.join(work_dir, \"training\"), True)\n",
    "print(\"Size of train : {} \".format(len(train_x)))\n",
    "\n",
    "val_x, val_y = readfile(os.path.join(work_dir, \"validation\"), True)\n",
    "print(\"Size of validation : {} \".format(len(val_x)))\n",
    "\n",
    "test_x = readfile(os.path.join(work_dir, \"testing\"), False)\n",
    "print(\"Size of test : {}\".format(len(test_x)))\n"
   ]
  },
  {
   "cell_type": "markdown",
   "id": "4811b857",
   "metadata": {},
   "source": [
    "### DataSet"
   ]
  },
  {
   "cell_type": "code",
   "execution_count": 7,
   "id": "5348a856",
   "metadata": {},
   "outputs": [],
   "source": [
    "class ImgDataSet(Dataset):\n",
    "    def __init__(self, x, y = None, transform = None):\n",
    "        self.x = x\n",
    "        # label is required to be a LongTensor\n",
    "        self.y = y\n",
    "        if y is not None:\n",
    "            self.y = torch.LongTensor(y)\n",
    "        self.transform = transform\n",
    "    \n",
    "    def __len__(self):\n",
    "        return len(self.x)\n",
    "    \n",
    "    def __getitem__(self, index):\n",
    "        x = self.x[index]\n",
    "        if self.transform is not None:\n",
    "            x = self.transform(x)\n",
    "        \n",
    "        if self.y is not None:\n",
    "            y = self.y[index]\n",
    "            return x, y\n",
    "        \n",
    "        else:\n",
    "            return x"
   ]
  },
  {
   "cell_type": "code",
   "execution_count": 20,
   "id": "ba19b53c",
   "metadata": {},
   "outputs": [],
   "source": [
    "angle = 30\n",
    "train_transform = transforms.Compose([\n",
    "    transforms.ToPILImage(),\n",
    "    transforms.RandomHorizontalFlip(), # 随机翻转图片\n",
    "    transforms.RandomRotation(angle),\n",
    "    transforms.ToTensor()   \n",
    "])\n",
    "\n",
    "#  给test和val用\n",
    "test_transform = transforms.Compose([\n",
    "    transforms.ToPILImage(),\n",
    "    transforms.ToTensor()\n",
    "])\n",
    "\n",
    "batch_size = 128\n",
    "train_set = ImgDataSet(train_x, train_y, train_transform)\n",
    "val_set = ImgDataSet(val_x, val_y, test_transform)\n",
    "train_loader = DataLoader(train_set, batch_size=batch_size, shuffle=True)\n",
    "val_loader = DataLoader(val_set, batch_size=batch_size, shuffle=False)"
   ]
  },
  {
   "cell_type": "markdown",
   "id": "2fe190c2",
   "metadata": {},
   "source": [
    "## Model"
   ]
  },
  {
   "cell_type": "code",
   "execution_count": null,
   "id": "bc091b28",
   "metadata": {},
   "outputs": [],
   "source": [
    "class CNNClassifier(nn.Module):\n",
    "    def __init__(self):\n",
    "        super(CNNClassifier, self).__init__()\n",
    "        \n",
    "        "
   ]
  }
 ],
 "metadata": {
  "kernelspec": {
   "display_name": "Python 3",
   "language": "python",
   "name": "python3"
  },
  "language_info": {
   "codemirror_mode": {
    "name": "ipython",
    "version": 3
   },
   "file_extension": ".py",
   "mimetype": "text/x-python",
   "name": "python",
   "nbconvert_exporter": "python",
   "pygments_lexer": "ipython3",
   "version": "3.8.8"
  }
 },
 "nbformat": 4,
 "nbformat_minor": 5
}
